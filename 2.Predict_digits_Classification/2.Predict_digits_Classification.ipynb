{
 "cells": [
  {
   "cell_type": "code",
   "execution_count": 1,
   "id": "c6e0df3e",
   "metadata": {},
   "outputs": [],
   "source": [
    "from sklearn.datasets import fetch_openml\n",
    "mnist = fetch_openml('mnist_784', version=1)"
   ]
  },
  {
   "cell_type": "code",
   "execution_count": 2,
   "id": "b8a06dfd",
   "metadata": {},
   "outputs": [
    {
     "data": {
      "text/plain": [
       "dict_keys(['data', 'target', 'frame', 'categories', 'feature_names', 'target_names', 'DESCR', 'details', 'url'])"
      ]
     },
     "execution_count": 2,
     "metadata": {},
     "output_type": "execute_result"
    }
   ],
   "source": [
    "\n",
    "mnist.keys()"
   ]
  },
  {
   "cell_type": "code",
   "execution_count": 3,
   "id": "c415e7f1",
   "metadata": {},
   "outputs": [],
   "source": [
    "X,y=mnist['data'], mnist['target']"
   ]
  },
  {
   "cell_type": "code",
   "execution_count": 4,
   "id": "707a5066",
   "metadata": {},
   "outputs": [
    {
     "data": {
      "text/plain": [
       "(70000, 784)"
      ]
     },
     "execution_count": 4,
     "metadata": {},
     "output_type": "execute_result"
    }
   ],
   "source": [
    "# There are 70,000 images with 784 features. [Each image is 28*28 pixels] [ Each pixel tells about the number that a pixel can represent i.e 0 to 255]\n",
    "X.shape"
   ]
  },
  {
   "cell_type": "code",
   "execution_count": 5,
   "id": "de33786b",
   "metadata": {},
   "outputs": [
    {
     "data": {
      "text/plain": [
       "(70000,)"
      ]
     },
     "execution_count": 5,
     "metadata": {},
     "output_type": "execute_result"
    }
   ],
   "source": [
    "y.shape"
   ]
  },
  {
   "cell_type": "markdown",
   "id": "8aaab05f",
   "metadata": {},
   "source": [
    "## Data Exploration\n"
   ]
  },
  {
   "cell_type": "code",
   "execution_count": 6,
   "id": "f61ab0fb",
   "metadata": {},
   "outputs": [
    {
     "data": {
      "text/plain": [
       "<matplotlib.image.AxesImage at 0x7f9728c73cd0>"
      ]
     },
     "execution_count": 6,
     "metadata": {},
     "output_type": "execute_result"
    },
    {
     "data": {
      "image/png": "[encoded data removed]",
      "text/plain": [
       "<Figure size 432x288 with 1 Axes>"
      ]
     },
     "metadata": {
      "needs_background": "light"
     },
     "output_type": "display_data"
    }
   ],
   "source": [
    "# to view an image we need to reshape x[28,28]\n",
    "\n",
    "X[0].shape\n",
    "\n",
    "# This shape has to be converted to a 28*28 matrix to view the actual digit\n",
    "import matplotlib.pyplot as plt\n",
    "\n",
    "first_digit=X[0]\n",
    "\n",
    "first_digit_image = first_digit.reshape(28,28)\n",
    "# This function helps us see an image when the shape of the input is 28*28\n",
    "plt.imshow(first_digit_image, cmap='binary')"
   ]
  },
  {
   "cell_type": "code",
   "execution_count": 7,
   "id": "7cb4d9c5",
   "metadata": {},
   "outputs": [
    {
     "data": {
      "text/plain": [
       "'5'"
      ]
     },
     "execution_count": 7,
     "metadata": {},
     "output_type": "execute_result"
    }
   ],
   "source": [
    "# Checking out the actual label\n",
    "y[0]"
   ]
  },
  {
   "cell_type": "code",
   "execution_count": 8,
   "id": "7da86deb",
   "metadata": {},
   "outputs": [],
   "source": [
    "# The label is mentioned as a string so we shall convert it into an integer\n",
    "\n",
    "import numpy as np\n",
    "\n",
    "y=y.astype(int)"
   ]
  },
  {
   "cell_type": "code",
   "execution_count": 9,
   "id": "b5173431",
   "metadata": {},
   "outputs": [
    {
     "data": {
      "text/plain": [
       "array([5, 0, 4, ..., 4, 5, 6])"
      ]
     },
     "execution_count": 9,
     "metadata": {},
     "output_type": "execute_result"
    }
   ],
   "source": [
    "# We have converted the string values into integers\n",
    "y"
   ]
  },
  {
   "cell_type": "markdown",
   "id": "6f727731",
   "metadata": {},
   "source": [
    "## Splitting into train and test"
   ]
  },
  {
   "cell_type": "code",
   "execution_count": 10,
   "id": "417be2ad",
   "metadata": {},
   "outputs": [],
   "source": [
    "# We shall be now splitting the data into a test data set and a train data set\n",
    "\n",
    "X_train,X_test, y_train, y_test= X[:60000], X[60000:],y[:60000], y[60000:]"
   ]
  },
  {
   "cell_type": "markdown",
   "id": "efb9fef8",
   "metadata": {},
   "source": [
    "## Creating a Binary Classifier"
   ]
  },
  {
   "cell_type": "code",
   "execution_count": 11,
   "id": "f648c661",
   "metadata": {},
   "outputs": [],
   "source": [
    "y_train_5=(y_train==5)\n",
    "y_test_5=(y_test==5)"
   ]
  },
  {
   "cell_type": "code",
   "execution_count": 12,
   "id": "e24d591d",
   "metadata": {},
   "outputs": [
    {
     "data": {
      "text/plain": [
       "array([ True])"
      ]
     },
     "execution_count": 12,
     "metadata": {},
     "output_type": "execute_result"
    }
   ],
   "source": [
    "# We shall use the SGDClassifier as we have >100000 fields and we have labelled data (check Scikit Learn Model selection map below to choose an appropriate model)\n",
    "\n",
    "# To note is that SGD Classfier comes as a linear model \n",
    "from sklearn.linear_model import SGDClassifier \n",
    "\n",
    "#SGD classifier introduces randomness during training that's why it is best to write a random_state number for reproducibility\n",
    "\n",
    "# Initializing the model\n",
    "sgd_clf=SGDClassifier(random_state=42)\n",
    "\n",
    "# Fitting the model\n",
    "sgd_clf.fit(X_train,y_train_5)\n",
    "\n",
    "# Predictions made\n",
    "sgd_clf.predict([first_digit])"
   ]
  },
  {
   "cell_type": "code",
   "execution_count": 13,
   "id": "fcdb9a92",
   "metadata": {},
   "outputs": [
    {
     "data": {
      "text/plain": [
       "<matplotlib.image.AxesImage at 0x7f974a5fdf10>"
      ]
     },
     "execution_count": 13,
     "metadata": {},
     "output_type": "execute_result"
    },
    {
     "data": {
      "image/png": "[encoded data removed]",
      "text/plain": [
       "<Figure size 432x288 with 1 Axes>"
      ]
     },
     "metadata": {
      "needs_background": "light"
     },
     "output_type": "display_data"
    }
   ],
   "source": [
    "plt.imshow(first_digit_image, cmap='binary')"
   ]
  },
  {
   "cell_type": "markdown",
   "id": "8172975b",
   "metadata": {},
   "source": [
    "We can observe that our \"5 or not\" predictor has predicted our output correctly"
   ]
  },
  {
   "cell_type": "markdown",
   "id": "75164b6c",
   "metadata": {},
   "source": [
    "## Evaluating our ('is it 5 or not' classfier)"
   ]
  },
  {
   "cell_type": "code",
   "execution_count": 14,
   "id": "ee7f2a6a",
   "metadata": {},
   "outputs": [
    {
     "data": {
      "text/plain": [
       "array([0.95035, 0.96035, 0.9604 ])"
      ]
     },
     "execution_count": 14,
     "metadata": {},
     "output_type": "execute_result"
    }
   ],
   "source": [
    "# Using the k-fold Cross Validation to check how the model works on the data\n",
    "\n",
    "from sklearn.model_selection import cross_val_score\n",
    "cross_val_score(sgd_clf,X_train,y_train_5,cv=3, scoring='accuracy')\n",
    "\n",
    "\n",
    "# The values suggest that our model on an average is 95% accurate in its predictions of True or False"
   ]
  },
  {
   "cell_type": "code",
   "execution_count": 15,
   "id": "88342423",
   "metadata": {},
   "outputs": [],
   "source": [
    "# Using the confusion matrix as a metric for classification.\n",
    "\n",
    "from sklearn.model_selection import cross_val_predict\n",
    "\n",
    "# Cross_val_predict performs the K-fold cross -validation but it returns the predictions instead of the cross-val scores as above\n",
    "\n",
    "y_train_pred=cross_val_predict(sgd_clf,X_train,y_train_5,cv=3)\n",
    "\n"
   ]
  },
  {
   "cell_type": "code",
   "execution_count": 16,
   "id": "a0782682",
   "metadata": {},
   "outputs": [
    {
     "data": {
      "text/plain": [
       "array([[53892,   687],\n",
       "       [ 1891,  3530]])"
      ]
     },
     "execution_count": 16,
     "metadata": {},
     "output_type": "execute_result"
    }
   ],
   "source": [
    "# Now implementing the confusion matrix on the y_train_preds \n",
    "\n",
    "from sklearn.metrics import confusion_matrix\n",
    "confusion_matrix(y_train_5, y_train_pred)"
   ]
  },
  {
   "cell_type": "code",
   "execution_count": 17,
   "id": "5d27b3c4",
   "metadata": {},
   "outputs": [
    {
     "data": {
      "text/plain": [
       "0.8370879772350012"
      ]
     },
     "execution_count": 17,
     "metadata": {},
     "output_type": "execute_result"
    }
   ],
   "source": [
    "# Getting the precision and recall of the matrix\n",
    "\n",
    "from sklearn.metrics import precision_score, recall_score\n",
    "\n",
    "precision_score(y_train_5, y_train_pred)"
   ]
  },
  {
   "cell_type": "code",
   "execution_count": 18,
   "id": "b27af2bf",
   "metadata": {},
   "outputs": [
    {
     "data": {
      "text/plain": [
       "0.6511713705958311"
      ]
     },
     "execution_count": 18,
     "metadata": {},
     "output_type": "execute_result"
    }
   ],
   "source": [
    "recall_score(y_train_5, y_train_pred)"
   ]
  },
  {
   "cell_type": "code",
   "execution_count": 19,
   "id": "765ca209",
   "metadata": {},
   "outputs": [],
   "source": [
    "# When we want to get decision scores instead of predictions with cross_val_predict\n",
    "\n",
    "y_scores = cross_val_predict(sgd_clf,X_train, y_train_5, cv=3, method='decision_function' )"
   ]
  },
  {
   "cell_type": "code",
   "execution_count": 20,
   "id": "778e3abb",
   "metadata": {},
   "outputs": [],
   "source": [
    "from sklearn.metrics import roc_curve \n",
    "\n",
    "# ROC curve function that is imported from metrics does not need the train and test set\n",
    "\n",
    "# Instead it needs the train_labels and the training decision function scores\n",
    "fpr,tpr,thresholds=roc_curve(y_train_5,y_scores)"
   ]
  },
  {
   "cell_type": "code",
   "execution_count": 21,
   "id": "b035d3e1",
   "metadata": {},
   "outputs": [
    {
     "data": {
      "image/png": "[encoded data removed]",
      "text/plain": [
       "<Figure size 432x288 with 1 Axes>"
      ]
     },
     "metadata": {
      "needs_background": "light"
     },
     "output_type": "display_data"
    }
   ],
   "source": [
    "def plot_roc_curve(fpr,tpr,label=None):\n",
    "    plt.plot(fpr,tpr,linewidth=2, label=label)\n",
    "    plt.plot([0,1],[0,1], 'k--')\n",
    "    plt.xlabel('False Positive Rate')\n",
    "    plt.ylabel('True Positive Rate/Recall')\n",
    "        \n",
    "plot_roc_curve(fpr,tpr)\n",
    "plt.show()\n",
    "\n",
    "# We realize that with higher Precision also comes Higher Recall"
   ]
  },
  {
   "cell_type": "code",
   "execution_count": 22,
   "id": "9a56a95c",
   "metadata": {},
   "outputs": [
    {
     "data": {
      "text/plain": [
       "0.9604938554008616"
      ]
     },
     "execution_count": 22,
     "metadata": {},
     "output_type": "execute_result"
    }
   ],
   "source": [
    "# Area under the curve is one way of measuring and comparing multiple classifiers\n",
    "from sklearn.metrics import roc_auc_score\n",
    "\n",
    "roc_auc_score(y_train_5, y_scores)"
   ]
  },
  {
   "cell_type": "code",
   "execution_count": 23,
   "id": "ead84b43",
   "metadata": {},
   "outputs": [],
   "source": [
    "# Comparign the ROC_AUC for the sgd_clf used and a RandomFOrestClassifier\n",
    "\n",
    "from sklearn.ensemble import RandomForestClassifier\n",
    "\n",
    "forest_clf= RandomForestClassifier(random_state=42)\n",
    "y_probas_forest=cross_val_predict(forest_clf,X_train, y_train_5, cv=3, method='predict_proba')\n",
    "\n",
    "y_scores_forest= y_probas_forest[:,1]\n",
    "\n",
    "fpr_forest, tpr_forest, thresholds_forest=roc_curve(y_train_5, y_scores_forest)"
   ]
  },
  {
   "cell_type": "code",
   "execution_count": 24,
   "id": "5aa04134",
   "metadata": {},
   "outputs": [
    {
     "data": {
      "image/png": "[encoded data removed]",
      "text/plain": [
       "<Figure size 432x288 with 1 Axes>"
      ]
     },
     "metadata": {
      "needs_background": "light"
     },
     "output_type": "display_data"
    }
   ],
   "source": [
    "# We can see that the Random FOrest has a greater AUC than SGD hence, it is the better classfier with the given data\n",
    "plt.plot(fpr,tpr,'b:', label='SGD')\n",
    "plot_roc_curve(fpr_forest, tpr_forest, \"Random Forest\")\n",
    "plt.legend(loc='lower right')\n",
    "plt.show()"
   ]
  },
  {
   "cell_type": "code",
   "execution_count": null,
   "id": "b4f0ce3a",
   "metadata": {},
   "outputs": [],
   "source": []
  }
 ],
 "metadata": {
  "kernelspec": {
   "display_name": "Python 3",
   "language": "python",
   "name": "python3"
  },
  "language_info": {
   "codemirror_mode": {
    "name": "ipython",
    "version": 3
   },
   "file_extension": ".py",
   "mimetype": "text/x-python",
   "name": "python",
   "nbconvert_exporter": "python",
   "pygments_lexer": "ipython3",
   "version": "3.8.8"
  }
 },
 "nbformat": 4,
 "nbformat_minor": 5
}
